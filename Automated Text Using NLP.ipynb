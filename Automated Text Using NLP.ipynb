{
 "cells": [
  {
   "cell_type": "code",
   "execution_count": 146,
   "id": "9f963251-3d28-4a0e-a104-5cacfde55fd3",
   "metadata": {},
   "outputs": [],
   "source": [
    "###Importing a sample text to work on which we would be using to generate our referenced text using NLP techniques"
   ]
  },
  {
   "cell_type": "code",
   "execution_count": 98,
   "id": "d1d2739f-064a-4fb1-9074-9b29eb5b2357",
   "metadata": {},
   "outputs": [],
   "source": [
    "text = \"\"\"Apple Inc., founded in 1976 by Steve Jobs, Steve Wozniak, and Ronald Wayne, has grown into a global technology icon. Renowned for its innovation in consumer electronics, software, and services, Apple's impact spans from the revolutionary Macintosh computers to the ubiquitous iPhone, iPad, and Apple Watch. The company's commitment to seamless integration of hardware and software, along with its emphasis on design aesthetics and user experience, has garnered a fiercely loyal customer base worldwide. Beyond its products, Apple has pioneered advancements in digital media with iTunes and App Store, while also leading in sustainability efforts and corporate responsibility. Today, Apple continues to shape the future of technology through its relentless pursuit of excellence and its vision of making technology accessible and intuitive for all.Apple Inc., a cornerstone of Silicon Valley's tech landscape, has become synonymous with innovation and elegance in consumer electronics. Founded by Steve Jobs, Steve Wozniak, and Ronald Wayne, Apple revolutionized personal computing with the Macintosh and later redefined mobile technology with the iPhone, setting new benchmarks for usability and design. The company's ecosystem extends seamlessly across devices with services like iCloud and Apple Music, fostering a unique user experience. Apple's commitment to environmental stewardship and ethical manufacturing practices underscores its global influence, making it not just a leader in technology but also a model for corporate responsibility. With a blend of visionary leadership, cutting-edge technology, and a fiercely loyal customer base, Apple continues to shape the digital landscape and inspire the world with its innovative spirit.\"\"\""
   ]
  },
  {
   "cell_type": "code",
   "execution_count": null,
   "id": "53024852-c119-40ca-88db-9ad93c1ea42d",
   "metadata": {},
   "outputs": [],
   "source": [
    "###Let's calculate the length of our sample text"
   ]
  },
  {
   "cell_type": "code",
   "execution_count": 99,
   "id": "f5c2a68b-1143-4a07-b853-7a24a72306e3",
   "metadata": {},
   "outputs": [
    {
     "data": {
      "text/plain": [
       "1743"
      ]
     },
     "execution_count": 99,
     "metadata": {},
     "output_type": "execute_result"
    }
   ],
   "source": [
    "len(text)"
   ]
  },
  {
   "cell_type": "code",
   "execution_count": null,
   "id": "6b626ef6-5df6-4430-9789-0f904277dec0",
   "metadata": {},
   "outputs": [],
   "source": [
    "###Installing needed dependencies. Spacy is a popular open-source library used for natural language processing (NLP) tasks in Python.\n",
    "###It's designed to be fast, efficient, and easy to use, making it suitable for building practical applications and research in NLP. "
   ]
  },
  {
   "cell_type": "code",
   "execution_count": 100,
   "id": "bac5f1ed-181d-4f83-8683-ba4df857ddb9",
   "metadata": {},
   "outputs": [],
   "source": [
    "#pip install spacy"
   ]
  },
  {
   "cell_type": "code",
   "execution_count": 147,
   "id": "b9273ab7-58b6-437b-817c-7a9f35bbf457",
   "metadata": {},
   "outputs": [],
   "source": [
    "###We need to convert all words to lower case to avoid any layer of complexity for our model. \n",
    "###Spacy provides language-specific stop words for different languages. \n",
    "###Stop words are common words (like \"the\", \"is\", etc.) that are filtered out during the text processing to focus on more meaningful words. \n",
    "###In this case, STOP_WORDS is a set of English stop words provided by Spacy's English language module (spacy.lang.en)."
   ]
  },
  {
   "cell_type": "code",
   "execution_count": null,
   "id": "11ee7eec-3768-4e88-a970-9c138a669c6e",
   "metadata": {},
   "outputs": [],
   "source": [
    "###The string module in Python provides constants that are useful for dealing with strings, including punctuation, \n",
    "###which is a string of all ASCII punctuation characters (!\"#$%&'()*+,-./:;<=>?@[\\]^_{|}~). \n",
    "###This import statement brings in the punctuation` string, which can be used for text processing tasks such as removing punctuation marks\n",
    "###from text.\n"
   ]
  },
  {
   "cell_type": "code",
   "execution_count": 101,
   "id": "539d92a4-11cf-4e54-aa48-3c4677d087cf",
   "metadata": {},
   "outputs": [],
   "source": [
    "import spacy\n",
    "from spacy.lang.en.stop_words import STOP_WORDS\n",
    "from string import punctuation"
   ]
  },
  {
   "cell_type": "code",
   "execution_count": 102,
   "id": "f790e64d-7f6a-4885-a867-c172aa5654d5",
   "metadata": {},
   "outputs": [],
   "source": [
    "nlp = spacy.load('en_core_web_sm')"
   ]
  },
  {
   "cell_type": "code",
   "execution_count": null,
   "id": "2cd95323-a13c-4163-97ee-650480836066",
   "metadata": {},
   "outputs": [],
   "source": [
    "###This method call loads a specific language model named 'en_core_web_sm' from Spacy's library. Here's what each part means:\n",
    "###en: Indicates the language (English).\n",
    "###core: Indicates it's a core model, typically covering basic NLP tasks like tokenization, POS tagging, and parsing.\n",
    "###web_sm: Denotes a specific variant or size of the model ('sm' stands for small).\n"
   ]
  },
  {
   "cell_type": "code",
   "execution_count": 103,
   "id": "c37480fd-afb5-4c61-844b-bd9e330ed9a8",
   "metadata": {},
   "outputs": [],
   "source": [
    "doc = nlp(text)"
   ]
  },
  {
   "cell_type": "code",
   "execution_count": null,
   "id": "012e4ef4-b6db-4746-bdfb-2121fbc5980c",
   "metadata": {},
   "outputs": [],
   "source": [
    "###Refers to the Spacy NLP object that was initialized and loaded with a specific language model ('en_core_web_sm' in this case).\n",
    "##When we call nlp(text), Spacy applies a series of linguistic annotations and analyses to the input text based on the capabilities\n",
    "###of the loaded model ('en_core_web_sm').\n",
    "###This processing pipeline typically includes:\n",
    "###Tokenization: Splitting the text into individual words or tokens.\n",
    "###Part-of-Speech Tagging: Assigning grammatical categories (like noun, verb, adjective) to each token.\n",
    "###Dependency Parsing: Analyzing the syntactic structure and dependencies between words.\n",
    "###Named Entity Recognition (NER): Identifying entities such as persons, organizations, dates, etc., in the text.\n",
    "###Sentence Boundary Detection: Segmenting the text into sentences.\n",
    "###Lemmatization: Reducing words to their base forms."
   ]
  },
  {
   "cell_type": "code",
   "execution_count": 104,
   "id": "f094d3a3-9ce2-4dab-b246-61a4e135684f",
   "metadata": {},
   "outputs": [],
   "source": [
    "tokens = [token.text.lower() for token in doc\n",
    "         if not token.is_stop and\n",
    "         not token.is_punct and\n",
    "         token.text !='\\n']"
   ]
  },
  {
   "cell_type": "code",
   "execution_count": null,
   "id": "c1b12a19-a6b2-493c-91df-5d8a2d146d63",
   "metadata": {},
   "outputs": [],
   "source": [
    "###Here we efficiently create a list of lowercase words from a Spacy doc, excluding stop words, punctuation, and newline characters, \n",
    "###facilitating further text analysis tasks."
   ]
  },
  {
   "cell_type": "code",
   "execution_count": 105,
   "id": "051b5abe-358b-4d32-8c99-6b2c5e1cf5d9",
   "metadata": {},
   "outputs": [
    {
     "data": {
      "text/plain": [
       "['apple',\n",
       " 'inc.',\n",
       " 'founded',\n",
       " '1976',\n",
       " 'steve',\n",
       " 'jobs',\n",
       " 'steve',\n",
       " 'wozniak',\n",
       " 'ronald',\n",
       " 'wayne',\n",
       " 'grown',\n",
       " 'global',\n",
       " 'technology',\n",
       " 'icon',\n",
       " 'renowned',\n",
       " 'innovation',\n",
       " 'consumer',\n",
       " 'electronics',\n",
       " 'software',\n",
       " 'services',\n",
       " 'apple',\n",
       " 'impact',\n",
       " 'spans',\n",
       " 'revolutionary',\n",
       " 'macintosh',\n",
       " 'computers',\n",
       " 'ubiquitous',\n",
       " 'iphone',\n",
       " 'ipad',\n",
       " 'apple',\n",
       " 'watch',\n",
       " 'company',\n",
       " 'commitment',\n",
       " 'seamless',\n",
       " 'integration',\n",
       " 'hardware',\n",
       " 'software',\n",
       " 'emphasis',\n",
       " 'design',\n",
       " 'aesthetics',\n",
       " 'user',\n",
       " 'experience',\n",
       " 'garnered',\n",
       " 'fiercely',\n",
       " 'loyal',\n",
       " 'customer',\n",
       " 'base',\n",
       " 'worldwide',\n",
       " 'products',\n",
       " 'apple',\n",
       " 'pioneered',\n",
       " 'advancements',\n",
       " 'digital',\n",
       " 'media',\n",
       " 'itunes',\n",
       " 'app',\n",
       " 'store',\n",
       " 'leading',\n",
       " 'sustainability',\n",
       " 'efforts',\n",
       " 'corporate',\n",
       " 'responsibility',\n",
       " 'today',\n",
       " 'apple',\n",
       " 'continues',\n",
       " 'shape',\n",
       " 'future',\n",
       " 'technology',\n",
       " 'relentless',\n",
       " 'pursuit',\n",
       " 'excellence',\n",
       " 'vision',\n",
       " 'making',\n",
       " 'technology',\n",
       " 'accessible',\n",
       " 'intuitive',\n",
       " 'apple',\n",
       " 'inc.',\n",
       " 'cornerstone',\n",
       " 'silicon',\n",
       " 'valley',\n",
       " 'tech',\n",
       " 'landscape',\n",
       " 'synonymous',\n",
       " 'innovation',\n",
       " 'elegance',\n",
       " 'consumer',\n",
       " 'electronics',\n",
       " 'founded',\n",
       " 'steve',\n",
       " 'jobs',\n",
       " 'steve',\n",
       " 'wozniak',\n",
       " 'ronald',\n",
       " 'wayne',\n",
       " 'apple',\n",
       " 'revolutionized',\n",
       " 'personal',\n",
       " 'computing',\n",
       " 'macintosh',\n",
       " 'later',\n",
       " 'redefined',\n",
       " 'mobile',\n",
       " 'technology',\n",
       " 'iphone',\n",
       " 'setting',\n",
       " 'new',\n",
       " 'benchmarks',\n",
       " 'usability',\n",
       " 'design',\n",
       " 'company',\n",
       " 'ecosystem',\n",
       " 'extends',\n",
       " 'seamlessly',\n",
       " 'devices',\n",
       " 'services',\n",
       " 'like',\n",
       " 'icloud',\n",
       " 'apple',\n",
       " 'music',\n",
       " 'fostering',\n",
       " 'unique',\n",
       " 'user',\n",
       " 'experience',\n",
       " 'apple',\n",
       " 'commitment',\n",
       " 'environmental',\n",
       " 'stewardship',\n",
       " 'ethical',\n",
       " 'manufacturing',\n",
       " 'practices',\n",
       " 'underscores',\n",
       " 'global',\n",
       " 'influence',\n",
       " 'making',\n",
       " 'leader',\n",
       " 'technology',\n",
       " 'model',\n",
       " 'corporate',\n",
       " 'responsibility',\n",
       " 'blend',\n",
       " 'visionary',\n",
       " 'leadership',\n",
       " 'cutting',\n",
       " 'edge',\n",
       " 'technology',\n",
       " 'fiercely',\n",
       " 'loyal',\n",
       " 'customer',\n",
       " 'base',\n",
       " 'apple',\n",
       " 'continues',\n",
       " 'shape',\n",
       " 'digital',\n",
       " 'landscape',\n",
       " 'inspire',\n",
       " 'world',\n",
       " 'innovative',\n",
       " 'spirit']"
      ]
     },
     "execution_count": 105,
     "metadata": {},
     "output_type": "execute_result"
    }
   ],
   "source": [
    "tokens\n"
   ]
  },
  {
   "cell_type": "code",
   "execution_count": 106,
   "id": "30dcffee-4469-42de-8e59-6744a81c394e",
   "metadata": {},
   "outputs": [],
   "source": [
    "tokens1 = []\n",
    "stopwords = list(STOP_WORDS)\n",
    "allowed_pos = ['ADJ','PROPN','VERB','NOUN']\n",
    "for token in doc:\n",
    "    if token.text in stopwords or token.text in punctuation:\n",
    "        continue\n",
    "    if token.pos_ in allowed_pos:\n",
    "        tokens1.append(token.text)"
   ]
  },
  {
   "cell_type": "code",
   "execution_count": null,
   "id": "ff6ca2b7-c728-419c-afe2-87cf926bf3d3",
   "metadata": {},
   "outputs": [],
   "source": [
    "###Initializing  an empty list where filtered tokens will be stored.\n",
    "###Here we convert Spacy's set of English stop words (STOP_WORDS) into a list. Stop words are common words \n",
    "###(like \"the\", \"is\", \"at\", etc.) that are typically filtered out during text processing to focus on more meaningful words.\n",
    "###['ADJ', 'PROPN', 'VERB', 'NOUN']: Defines a list of allowed part-of-speech (POS) tags (ADJ for adjective, PROPN for proper noun, VERB \n",
    "###for verb, NOUN for noun). These are the POS tags that you want to include in tokens1"
   ]
  },
  {
   "cell_type": "code",
   "execution_count": 107,
   "id": "7e94c81b-7569-4d6d-ae38-48581cdc9d05",
   "metadata": {},
   "outputs": [
    {
     "data": {
      "text/plain": [
       "['Apple',\n",
       " 'Inc.',\n",
       " 'founded',\n",
       " 'Steve',\n",
       " 'Jobs',\n",
       " 'Steve',\n",
       " 'Wozniak',\n",
       " 'Ronald',\n",
       " 'Wayne',\n",
       " 'grown',\n",
       " 'global',\n",
       " 'technology',\n",
       " 'icon',\n",
       " 'Renowned',\n",
       " 'innovation',\n",
       " 'consumer',\n",
       " 'electronics',\n",
       " 'software',\n",
       " 'services',\n",
       " 'Apple',\n",
       " 'impact',\n",
       " 'spans',\n",
       " 'revolutionary',\n",
       " 'Macintosh',\n",
       " 'computers',\n",
       " 'ubiquitous',\n",
       " 'iPhone',\n",
       " 'iPad',\n",
       " 'Apple',\n",
       " 'Watch',\n",
       " 'company',\n",
       " 'commitment',\n",
       " 'seamless',\n",
       " 'integration',\n",
       " 'hardware',\n",
       " 'software',\n",
       " 'emphasis',\n",
       " 'design',\n",
       " 'aesthetics',\n",
       " 'user',\n",
       " 'experience',\n",
       " 'garnered',\n",
       " 'loyal',\n",
       " 'customer',\n",
       " 'base',\n",
       " 'products',\n",
       " 'Apple',\n",
       " 'pioneered',\n",
       " 'advancements',\n",
       " 'digital',\n",
       " 'media',\n",
       " 'iTunes',\n",
       " 'App',\n",
       " 'Store',\n",
       " 'leading',\n",
       " 'sustainability',\n",
       " 'efforts',\n",
       " 'corporate',\n",
       " 'responsibility',\n",
       " 'Today',\n",
       " 'Apple',\n",
       " 'continues',\n",
       " 'shape',\n",
       " 'future',\n",
       " 'technology',\n",
       " 'relentless',\n",
       " 'pursuit',\n",
       " 'excellence',\n",
       " 'vision',\n",
       " 'making',\n",
       " 'technology',\n",
       " 'accessible',\n",
       " 'intuitive',\n",
       " 'Apple',\n",
       " 'Inc.',\n",
       " 'cornerstone',\n",
       " 'Silicon',\n",
       " 'Valley',\n",
       " 'tech',\n",
       " 'landscape',\n",
       " 'synonymous',\n",
       " 'innovation',\n",
       " 'elegance',\n",
       " 'consumer',\n",
       " 'electronics',\n",
       " 'Founded',\n",
       " 'Steve',\n",
       " 'Jobs',\n",
       " 'Steve',\n",
       " 'Wozniak',\n",
       " 'Ronald',\n",
       " 'Wayne',\n",
       " 'Apple',\n",
       " 'revolutionized',\n",
       " 'personal',\n",
       " 'computing',\n",
       " 'Macintosh',\n",
       " 'redefined',\n",
       " 'mobile',\n",
       " 'technology',\n",
       " 'iPhone',\n",
       " 'setting',\n",
       " 'new',\n",
       " 'benchmarks',\n",
       " 'usability',\n",
       " 'design',\n",
       " 'company',\n",
       " 'ecosystem',\n",
       " 'extends',\n",
       " 'devices',\n",
       " 'services',\n",
       " 'iCloud',\n",
       " 'Apple',\n",
       " 'Music',\n",
       " 'fostering',\n",
       " 'unique',\n",
       " 'user',\n",
       " 'experience',\n",
       " 'Apple',\n",
       " 'commitment',\n",
       " 'environmental',\n",
       " 'stewardship',\n",
       " 'ethical',\n",
       " 'manufacturing',\n",
       " 'practices',\n",
       " 'underscores',\n",
       " 'global',\n",
       " 'influence',\n",
       " 'making',\n",
       " 'leader',\n",
       " 'technology',\n",
       " 'model',\n",
       " 'corporate',\n",
       " 'responsibility',\n",
       " 'blend',\n",
       " 'visionary',\n",
       " 'leadership',\n",
       " 'cutting',\n",
       " 'edge',\n",
       " 'technology',\n",
       " 'loyal',\n",
       " 'customer',\n",
       " 'base',\n",
       " 'Apple',\n",
       " 'continues',\n",
       " 'shape',\n",
       " 'digital',\n",
       " 'landscape',\n",
       " 'inspire',\n",
       " 'world',\n",
       " 'innovative',\n",
       " 'spirit']"
      ]
     },
     "execution_count": 107,
     "metadata": {},
     "output_type": "execute_result"
    }
   ],
   "source": [
    "tokens1"
   ]
  },
  {
   "cell_type": "code",
   "execution_count": 108,
   "id": "df9f869f-5462-470a-9033-6917977915ad",
   "metadata": {},
   "outputs": [],
   "source": [
    "from collections import Counter"
   ]
  },
  {
   "cell_type": "code",
   "execution_count": 109,
   "id": "83b9db56-1127-49cc-90bf-3d1f99e8fc8b",
   "metadata": {},
   "outputs": [],
   "source": [
    "word_freq = Counter(tokens)"
   ]
  },
  {
   "cell_type": "code",
   "execution_count": null,
   "id": "159a1545-0b67-4aea-b9f8-8b210472d0d3",
   "metadata": {},
   "outputs": [],
   "source": [
    "###The code snippet utilizes Python's Counter class from the collections module to analyze word frequencies in a list of tokens (tokens).\n",
    "###The goal is to count how often each unique word (token) appears in the tokens list, which typically represents processed text data.\n",
    "###Counter provides an efficient way to perform frequency analysis on collections of data, such as lists of tokens in text processing.\n",
    "###It allows quick access to counts of specific elements and supports operations typical of dictionaries."
   ]
  },
  {
   "cell_type": "code",
   "execution_count": 110,
   "id": "6c2fee28-2cf4-46c7-8f91-623db9e80cf6",
   "metadata": {},
   "outputs": [
    {
     "data": {
      "text/plain": [
       "Counter({'apple': 10,\n",
       "         'technology': 6,\n",
       "         'steve': 4,\n",
       "         'inc.': 2,\n",
       "         'founded': 2,\n",
       "         'jobs': 2,\n",
       "         'wozniak': 2,\n",
       "         'ronald': 2,\n",
       "         'wayne': 2,\n",
       "         'global': 2,\n",
       "         'innovation': 2,\n",
       "         'consumer': 2,\n",
       "         'electronics': 2,\n",
       "         'software': 2,\n",
       "         'services': 2,\n",
       "         'macintosh': 2,\n",
       "         'iphone': 2,\n",
       "         'company': 2,\n",
       "         'commitment': 2,\n",
       "         'design': 2,\n",
       "         'user': 2,\n",
       "         'experience': 2,\n",
       "         'fiercely': 2,\n",
       "         'loyal': 2,\n",
       "         'customer': 2,\n",
       "         'base': 2,\n",
       "         'digital': 2,\n",
       "         'corporate': 2,\n",
       "         'responsibility': 2,\n",
       "         'continues': 2,\n",
       "         'shape': 2,\n",
       "         'making': 2,\n",
       "         'landscape': 2,\n",
       "         '1976': 1,\n",
       "         'grown': 1,\n",
       "         'icon': 1,\n",
       "         'renowned': 1,\n",
       "         'impact': 1,\n",
       "         'spans': 1,\n",
       "         'revolutionary': 1,\n",
       "         'computers': 1,\n",
       "         'ubiquitous': 1,\n",
       "         'ipad': 1,\n",
       "         'watch': 1,\n",
       "         'seamless': 1,\n",
       "         'integration': 1,\n",
       "         'hardware': 1,\n",
       "         'emphasis': 1,\n",
       "         'aesthetics': 1,\n",
       "         'garnered': 1,\n",
       "         'worldwide': 1,\n",
       "         'products': 1,\n",
       "         'pioneered': 1,\n",
       "         'advancements': 1,\n",
       "         'media': 1,\n",
       "         'itunes': 1,\n",
       "         'app': 1,\n",
       "         'store': 1,\n",
       "         'leading': 1,\n",
       "         'sustainability': 1,\n",
       "         'efforts': 1,\n",
       "         'today': 1,\n",
       "         'future': 1,\n",
       "         'relentless': 1,\n",
       "         'pursuit': 1,\n",
       "         'excellence': 1,\n",
       "         'vision': 1,\n",
       "         'accessible': 1,\n",
       "         'intuitive': 1,\n",
       "         'cornerstone': 1,\n",
       "         'silicon': 1,\n",
       "         'valley': 1,\n",
       "         'tech': 1,\n",
       "         'synonymous': 1,\n",
       "         'elegance': 1,\n",
       "         'revolutionized': 1,\n",
       "         'personal': 1,\n",
       "         'computing': 1,\n",
       "         'later': 1,\n",
       "         'redefined': 1,\n",
       "         'mobile': 1,\n",
       "         'setting': 1,\n",
       "         'new': 1,\n",
       "         'benchmarks': 1,\n",
       "         'usability': 1,\n",
       "         'ecosystem': 1,\n",
       "         'extends': 1,\n",
       "         'seamlessly': 1,\n",
       "         'devices': 1,\n",
       "         'like': 1,\n",
       "         'icloud': 1,\n",
       "         'music': 1,\n",
       "         'fostering': 1,\n",
       "         'unique': 1,\n",
       "         'environmental': 1,\n",
       "         'stewardship': 1,\n",
       "         'ethical': 1,\n",
       "         'manufacturing': 1,\n",
       "         'practices': 1,\n",
       "         'underscores': 1,\n",
       "         'influence': 1,\n",
       "         'leader': 1,\n",
       "         'model': 1,\n",
       "         'blend': 1,\n",
       "         'visionary': 1,\n",
       "         'leadership': 1,\n",
       "         'cutting': 1,\n",
       "         'edge': 1,\n",
       "         'inspire': 1,\n",
       "         'world': 1,\n",
       "         'innovative': 1,\n",
       "         'spirit': 1})"
      ]
     },
     "execution_count": 110,
     "metadata": {},
     "output_type": "execute_result"
    }
   ],
   "source": [
    "word_freq"
   ]
  },
  {
   "cell_type": "code",
   "execution_count": 111,
   "id": "0ca1917a-7b67-46e8-96fd-c57046282525",
   "metadata": {},
   "outputs": [],
   "source": [
    "max_freq = max(word_freq.values())"
   ]
  },
  {
   "cell_type": "code",
   "execution_count": null,
   "id": "a9cf9f9f-281e-4303-b714-2c1f0c912759",
   "metadata": {},
   "outputs": [],
   "source": [
    "###The goal of max_freq is to find the maximum frequency (count) of any word in the word_freq dictionary."
   ]
  },
  {
   "cell_type": "code",
   "execution_count": 112,
   "id": "ee48f312-d740-4386-a73e-f37090ac000c",
   "metadata": {},
   "outputs": [
    {
     "data": {
      "text/plain": [
       "10"
      ]
     },
     "execution_count": 112,
     "metadata": {},
     "output_type": "execute_result"
    }
   ],
   "source": [
    "max_freq"
   ]
  },
  {
   "cell_type": "code",
   "execution_count": 113,
   "id": "fe88e5b7-863c-47ba-bcf2-c6dd03e33ba4",
   "metadata": {},
   "outputs": [],
   "source": [
    "for word in word_freq.keys():\n",
    "    word_freq[word] = word_freq[word]/max_freq"
   ]
  },
  {
   "cell_type": "code",
   "execution_count": null,
   "id": "065566ee-fd83-4acd-ba5b-2cc4c58ec747",
   "metadata": {},
   "outputs": [],
   "source": [
    "###Here we iterate through each word (key) in the word_freq dictionary (or Counter object), which contains word frequencies.\n",
    "###Divide each word's frequency (word_freq[word]) by the maximum frequency (max_freq) found earlier using max(word_freq.values()).\n",
    "###This operation scales down all word frequencies proportionally to their maximum occurrence in the dataset."
   ]
  },
  {
   "cell_type": "code",
   "execution_count": null,
   "id": "eab9152f-5cb0-460a-8af8-63614b9e00d8",
   "metadata": {},
   "outputs": [],
   "source": [
    "###Here we normalize word frequencies in a Counter object by dividing each frequency by the maximum frequency found, facilitating\n",
    "####standardized comparisons and analyses of word usage patterns within text."
   ]
  },
  {
   "cell_type": "code",
   "execution_count": 114,
   "id": "abef1616-3f7c-489e-ac5d-5f259ee1b657",
   "metadata": {},
   "outputs": [
    {
     "data": {
      "text/plain": [
       "Counter({'apple': 1.0,\n",
       "         'technology': 0.6,\n",
       "         'steve': 0.4,\n",
       "         'inc.': 0.2,\n",
       "         'founded': 0.2,\n",
       "         'jobs': 0.2,\n",
       "         'wozniak': 0.2,\n",
       "         'ronald': 0.2,\n",
       "         'wayne': 0.2,\n",
       "         'global': 0.2,\n",
       "         'innovation': 0.2,\n",
       "         'consumer': 0.2,\n",
       "         'electronics': 0.2,\n",
       "         'software': 0.2,\n",
       "         'services': 0.2,\n",
       "         'macintosh': 0.2,\n",
       "         'iphone': 0.2,\n",
       "         'company': 0.2,\n",
       "         'commitment': 0.2,\n",
       "         'design': 0.2,\n",
       "         'user': 0.2,\n",
       "         'experience': 0.2,\n",
       "         'fiercely': 0.2,\n",
       "         'loyal': 0.2,\n",
       "         'customer': 0.2,\n",
       "         'base': 0.2,\n",
       "         'digital': 0.2,\n",
       "         'corporate': 0.2,\n",
       "         'responsibility': 0.2,\n",
       "         'continues': 0.2,\n",
       "         'shape': 0.2,\n",
       "         'making': 0.2,\n",
       "         'landscape': 0.2,\n",
       "         '1976': 0.1,\n",
       "         'grown': 0.1,\n",
       "         'icon': 0.1,\n",
       "         'renowned': 0.1,\n",
       "         'impact': 0.1,\n",
       "         'spans': 0.1,\n",
       "         'revolutionary': 0.1,\n",
       "         'computers': 0.1,\n",
       "         'ubiquitous': 0.1,\n",
       "         'ipad': 0.1,\n",
       "         'watch': 0.1,\n",
       "         'seamless': 0.1,\n",
       "         'integration': 0.1,\n",
       "         'hardware': 0.1,\n",
       "         'emphasis': 0.1,\n",
       "         'aesthetics': 0.1,\n",
       "         'garnered': 0.1,\n",
       "         'worldwide': 0.1,\n",
       "         'products': 0.1,\n",
       "         'pioneered': 0.1,\n",
       "         'advancements': 0.1,\n",
       "         'media': 0.1,\n",
       "         'itunes': 0.1,\n",
       "         'app': 0.1,\n",
       "         'store': 0.1,\n",
       "         'leading': 0.1,\n",
       "         'sustainability': 0.1,\n",
       "         'efforts': 0.1,\n",
       "         'today': 0.1,\n",
       "         'future': 0.1,\n",
       "         'relentless': 0.1,\n",
       "         'pursuit': 0.1,\n",
       "         'excellence': 0.1,\n",
       "         'vision': 0.1,\n",
       "         'accessible': 0.1,\n",
       "         'intuitive': 0.1,\n",
       "         'cornerstone': 0.1,\n",
       "         'silicon': 0.1,\n",
       "         'valley': 0.1,\n",
       "         'tech': 0.1,\n",
       "         'synonymous': 0.1,\n",
       "         'elegance': 0.1,\n",
       "         'revolutionized': 0.1,\n",
       "         'personal': 0.1,\n",
       "         'computing': 0.1,\n",
       "         'later': 0.1,\n",
       "         'redefined': 0.1,\n",
       "         'mobile': 0.1,\n",
       "         'setting': 0.1,\n",
       "         'new': 0.1,\n",
       "         'benchmarks': 0.1,\n",
       "         'usability': 0.1,\n",
       "         'ecosystem': 0.1,\n",
       "         'extends': 0.1,\n",
       "         'seamlessly': 0.1,\n",
       "         'devices': 0.1,\n",
       "         'like': 0.1,\n",
       "         'icloud': 0.1,\n",
       "         'music': 0.1,\n",
       "         'fostering': 0.1,\n",
       "         'unique': 0.1,\n",
       "         'environmental': 0.1,\n",
       "         'stewardship': 0.1,\n",
       "         'ethical': 0.1,\n",
       "         'manufacturing': 0.1,\n",
       "         'practices': 0.1,\n",
       "         'underscores': 0.1,\n",
       "         'influence': 0.1,\n",
       "         'leader': 0.1,\n",
       "         'model': 0.1,\n",
       "         'blend': 0.1,\n",
       "         'visionary': 0.1,\n",
       "         'leadership': 0.1,\n",
       "         'cutting': 0.1,\n",
       "         'edge': 0.1,\n",
       "         'inspire': 0.1,\n",
       "         'world': 0.1,\n",
       "         'innovative': 0.1,\n",
       "         'spirit': 0.1})"
      ]
     },
     "execution_count": 114,
     "metadata": {},
     "output_type": "execute_result"
    }
   ],
   "source": [
    "word_freq"
   ]
  },
  {
   "cell_type": "code",
   "execution_count": 115,
   "id": "9a689736-5500-4244-83b0-8e972fa298f0",
   "metadata": {},
   "outputs": [],
   "source": [
    "sent_token = [sent.text for sent in doc.sents]"
   ]
  },
  {
   "cell_type": "code",
   "execution_count": 148,
   "id": "5cd591b3-dfa9-4f39-ac8e-d3f2db616a78",
   "metadata": {},
   "outputs": [],
   "source": [
    "###Our main purpose is to extract and store each sentence (as a string) from doc into the list sent_token\n",
    "###Here we leverage Spacy's sentence segmentation capabilities to identify and retrieve sentences from a processed document (doc) and\n",
    "###Providing a concise and efficient way to collect sentence texts into a list (sent_token).\n",
    "### It is useful for tasks such as text summarization, sentiment analysis, and context analysis where sentence-level information is required."
   ]
  },
  {
   "cell_type": "code",
   "execution_count": 116,
   "id": "c885b37c-32ec-4a23-8509-cd7ff0f9d64a",
   "metadata": {},
   "outputs": [
    {
     "data": {
      "text/plain": [
       "['Apple Inc., founded in 1976 by Steve Jobs, Steve Wozniak, and Ronald Wayne, has grown into a global technology icon.',\n",
       " \"Renowned for its innovation in consumer electronics, software, and services, Apple's impact spans from the revolutionary Macintosh computers to the ubiquitous iPhone, iPad, and Apple Watch.\",\n",
       " \"The company's commitment to seamless integration of hardware and software, along with its emphasis on design aesthetics and user experience, has garnered a fiercely loyal customer base worldwide.\",\n",
       " 'Beyond its products, Apple has pioneered advancements in digital media with iTunes and App Store, while also leading in sustainability efforts and corporate responsibility.',\n",
       " 'Today, Apple continues to shape the future of technology through its relentless pursuit of excellence and its vision of making technology accessible and intuitive for all.',\n",
       " \"Apple Inc., a cornerstone of Silicon Valley's tech landscape, has become synonymous with innovation and elegance in consumer electronics.\",\n",
       " 'Founded by Steve Jobs, Steve Wozniak, and Ronald Wayne, Apple revolutionized personal computing with the Macintosh and later redefined mobile technology with the iPhone, setting new benchmarks for usability and design.',\n",
       " \"The company's ecosystem extends seamlessly across devices with services like iCloud and Apple Music, fostering a unique user experience.\",\n",
       " \"Apple's commitment to environmental stewardship and ethical manufacturing practices underscores its global influence, making it not just a leader in technology but also a model for corporate responsibility.\",\n",
       " 'With a blend of visionary leadership, cutting-edge technology, and a fiercely loyal customer base, Apple continues to shape the digital landscape and inspire the world with its innovative spirit.']"
      ]
     },
     "execution_count": 116,
     "metadata": {},
     "output_type": "execute_result"
    }
   ],
   "source": [
    "sent_token"
   ]
  },
  {
   "cell_type": "code",
   "execution_count": 117,
   "id": "51522c33-6b66-41c5-b9f6-16d7ca6ed7e5",
   "metadata": {},
   "outputs": [
    {
     "name": "stdout",
     "output_type": "stream",
     "text": [
      "Apple\n",
      "Inc.,\n",
      "founded\n",
      "in\n",
      "1976\n",
      "by\n",
      "Steve\n",
      "Jobs,\n",
      "Steve\n",
      "Wozniak,\n",
      "and\n",
      "Ronald\n",
      "Wayne,\n",
      "has\n",
      "grown\n",
      "into\n",
      "a\n",
      "global\n",
      "technology\n",
      "icon.\n",
      "Renowned\n",
      "for\n",
      "its\n",
      "innovation\n",
      "in\n",
      "consumer\n",
      "electronics,\n",
      "software,\n",
      "and\n",
      "services,\n",
      "Apple's\n",
      "impact\n",
      "spans\n",
      "from\n",
      "the\n",
      "revolutionary\n",
      "Macintosh\n",
      "computers\n",
      "to\n",
      "the\n",
      "ubiquitous\n",
      "iPhone,\n",
      "iPad,\n",
      "and\n",
      "Apple\n",
      "Watch.\n",
      "The\n",
      "company's\n",
      "commitment\n",
      "to\n",
      "seamless\n",
      "integration\n",
      "of\n",
      "hardware\n",
      "and\n",
      "software,\n",
      "along\n",
      "with\n",
      "its\n",
      "emphasis\n",
      "on\n",
      "design\n",
      "aesthetics\n",
      "and\n",
      "user\n",
      "experience,\n",
      "has\n",
      "garnered\n",
      "a\n",
      "fiercely\n",
      "loyal\n",
      "customer\n",
      "base\n",
      "worldwide.\n",
      "Beyond\n",
      "its\n",
      "products,\n",
      "Apple\n",
      "has\n",
      "pioneered\n",
      "advancements\n",
      "in\n",
      "digital\n",
      "media\n",
      "with\n",
      "iTunes\n",
      "and\n",
      "App\n",
      "Store,\n",
      "while\n",
      "also\n",
      "leading\n",
      "in\n",
      "sustainability\n",
      "efforts\n",
      "and\n",
      "corporate\n",
      "responsibility.\n",
      "Today,\n",
      "Apple\n",
      "continues\n",
      "to\n",
      "shape\n",
      "the\n",
      "future\n",
      "of\n",
      "technology\n",
      "through\n",
      "its\n",
      "relentless\n",
      "pursuit\n",
      "of\n",
      "excellence\n",
      "and\n",
      "its\n",
      "vision\n",
      "of\n",
      "making\n",
      "technology\n",
      "accessible\n",
      "and\n",
      "intuitive\n",
      "for\n",
      "all.\n",
      "Apple\n",
      "Inc.,\n",
      "a\n",
      "cornerstone\n",
      "of\n",
      "Silicon\n",
      "Valley's\n",
      "tech\n",
      "landscape,\n",
      "has\n",
      "become\n",
      "synonymous\n",
      "with\n",
      "innovation\n",
      "and\n",
      "elegance\n",
      "in\n",
      "consumer\n",
      "electronics.\n",
      "Founded\n",
      "by\n",
      "Steve\n",
      "Jobs,\n",
      "Steve\n",
      "Wozniak,\n",
      "and\n",
      "Ronald\n",
      "Wayne,\n",
      "Apple\n",
      "revolutionized\n",
      "personal\n",
      "computing\n",
      "with\n",
      "the\n",
      "Macintosh\n",
      "and\n",
      "later\n",
      "redefined\n",
      "mobile\n",
      "technology\n",
      "with\n",
      "the\n",
      "iPhone,\n",
      "setting\n",
      "new\n",
      "benchmarks\n",
      "for\n",
      "usability\n",
      "and\n",
      "design.\n",
      "The\n",
      "company's\n",
      "ecosystem\n",
      "extends\n",
      "seamlessly\n",
      "across\n",
      "devices\n",
      "with\n",
      "services\n",
      "like\n",
      "iCloud\n",
      "and\n",
      "Apple\n",
      "Music,\n",
      "fostering\n",
      "a\n",
      "unique\n",
      "user\n",
      "experience.\n",
      "Apple's\n",
      "commitment\n",
      "to\n",
      "environmental\n",
      "stewardship\n",
      "and\n",
      "ethical\n",
      "manufacturing\n",
      "practices\n",
      "underscores\n",
      "its\n",
      "global\n",
      "influence,\n",
      "making\n",
      "it\n",
      "not\n",
      "just\n",
      "a\n",
      "leader\n",
      "in\n",
      "technology\n",
      "but\n",
      "also\n",
      "a\n",
      "model\n",
      "for\n",
      "corporate\n",
      "responsibility.\n",
      "With\n",
      "a\n",
      "blend\n",
      "of\n",
      "visionary\n",
      "leadership,\n",
      "cutting-edge\n",
      "technology,\n",
      "and\n",
      "a\n",
      "fiercely\n",
      "loyal\n",
      "customer\n",
      "base,\n",
      "Apple\n",
      "continues\n",
      "to\n",
      "shape\n",
      "the\n",
      "digital\n",
      "landscape\n",
      "and\n",
      "inspire\n",
      "the\n",
      "world\n",
      "with\n",
      "its\n",
      "innovative\n",
      "spirit.\n"
     ]
    }
   ],
   "source": [
    "sent_score = {}\n",
    "for sent in sent_token:\n",
    "    for word in sent.split():\n",
    "        if word.lower() in word_freq.keys():\n",
    "            if sent not in sent_score.keys():\n",
    "                sent_score[sent] = word_freq[word]\n",
    "            else:\n",
    "                sent_score[sent] += word_freq[word]\n",
    "        print(word)"
   ]
  },
  {
   "cell_type": "code",
   "execution_count": null,
   "id": "e74d5f22-2003-49bc-8ee2-8970872f7844",
   "metadata": {},
   "outputs": [],
   "source": [
    "###Checks if the lowercase version of word exists in word_freq, ensuring it's a word of interest based on previous frequency analysis.\n",
    "###If sent (sentence) is not yet a key in sent_score, it initializes sent_score[sent] with word_freq[word].\n",
    "###If sent already exists in sent_score, it adds word_freq[word] to sent_score[sent].\n",
    "###This step accumulates the scores based on the frequency of relevant words in each sentence."
   ]
  },
  {
   "cell_type": "code",
   "execution_count": 118,
   "id": "6b086d3c-7a9b-4a5a-8408-1398de7e4a15",
   "metadata": {},
   "outputs": [
    {
     "data": {
      "text/plain": [
       "{'Apple Inc., founded in 1976 by Steve Jobs, Steve Wozniak, and Ronald Wayne, has grown into a global technology icon.': 1.2000000000000002,\n",
       " \"Renowned for its innovation in consumer electronics, software, and services, Apple's impact spans from the revolutionary Macintosh computers to the ubiquitous iPhone, iPad, and Apple Watch.\": 0.8999999999999999,\n",
       " \"The company's commitment to seamless integration of hardware and software, along with its emphasis on design aesthetics and user experience, has garnered a fiercely loyal customer base worldwide.\": 2.0,\n",
       " 'Beyond its products, Apple has pioneered advancements in digital media with iTunes and App Store, while also leading in sustainability efforts and corporate responsibility.': 1.0,\n",
       " 'Today, Apple continues to shape the future of technology through its relentless pursuit of excellence and its vision of making technology accessible and intuitive for all.': 2.5000000000000004,\n",
       " \"Apple Inc., a cornerstone of Silicon Valley's tech landscape, has become synonymous with innovation and elegance in consumer electronics.\": 0.8,\n",
       " 'Founded by Steve Jobs, Steve Wozniak, and Ronald Wayne, Apple revolutionized personal computing with the Macintosh and later redefined mobile technology with the iPhone, setting new benchmarks for usability and design.': 1.6000000000000003,\n",
       " \"The company's ecosystem extends seamlessly across devices with services like iCloud and Apple Music, fostering a unique user experience.\": 1.1,\n",
       " \"Apple's commitment to environmental stewardship and ethical manufacturing practices underscores its global influence, making it not just a leader in technology but also a model for corporate responsibility.\": 2.2,\n",
       " 'With a blend of visionary leadership, cutting-edge technology, and a fiercely loyal customer base, Apple continues to shape the digital landscape and inspire the world with its innovative spirit.': 1.9000000000000001}"
      ]
     },
     "execution_count": 118,
     "metadata": {},
     "output_type": "execute_result"
    }
   ],
   "source": [
    "sent_score"
   ]
  },
  {
   "cell_type": "code",
   "execution_count": 119,
   "id": "3012779b-62f9-4407-a5ef-90a37c0c3895",
   "metadata": {},
   "outputs": [],
   "source": [
    "#pip install pandas"
   ]
  },
  {
   "cell_type": "code",
   "execution_count": 120,
   "id": "f891a9eb-9382-46e4-b46d-52ddf4cbd0a8",
   "metadata": {},
   "outputs": [],
   "source": [
    "import pandas as pd"
   ]
  },
  {
   "cell_type": "code",
   "execution_count": 121,
   "id": "3b5be91a-53d0-4056-8bfc-7b0ffc0a4a14",
   "metadata": {},
   "outputs": [
    {
     "data": {
      "text/html": [
       "<div>\n",
       "<style scoped>\n",
       "    .dataframe tbody tr th:only-of-type {\n",
       "        vertical-align: middle;\n",
       "    }\n",
       "\n",
       "    .dataframe tbody tr th {\n",
       "        vertical-align: top;\n",
       "    }\n",
       "\n",
       "    .dataframe thead th {\n",
       "        text-align: right;\n",
       "    }\n",
       "</style>\n",
       "<table border=\"1\" class=\"dataframe\">\n",
       "  <thead>\n",
       "    <tr style=\"text-align: right;\">\n",
       "      <th></th>\n",
       "      <th>Sentence</th>\n",
       "      <th>Score</th>\n",
       "    </tr>\n",
       "  </thead>\n",
       "  <tbody>\n",
       "    <tr>\n",
       "      <th>0</th>\n",
       "      <td>Apple Inc., founded in 1976 by Steve Jobs, Ste...</td>\n",
       "      <td>1.2</td>\n",
       "    </tr>\n",
       "    <tr>\n",
       "      <th>1</th>\n",
       "      <td>Renowned for its innovation in consumer electr...</td>\n",
       "      <td>0.9</td>\n",
       "    </tr>\n",
       "    <tr>\n",
       "      <th>2</th>\n",
       "      <td>The company's commitment to seamless integrati...</td>\n",
       "      <td>2.0</td>\n",
       "    </tr>\n",
       "    <tr>\n",
       "      <th>3</th>\n",
       "      <td>Beyond its products, Apple has pioneered advan...</td>\n",
       "      <td>1.0</td>\n",
       "    </tr>\n",
       "    <tr>\n",
       "      <th>4</th>\n",
       "      <td>Today, Apple continues to shape the future of ...</td>\n",
       "      <td>2.5</td>\n",
       "    </tr>\n",
       "    <tr>\n",
       "      <th>5</th>\n",
       "      <td>Apple Inc., a cornerstone of Silicon Valley's ...</td>\n",
       "      <td>0.8</td>\n",
       "    </tr>\n",
       "    <tr>\n",
       "      <th>6</th>\n",
       "      <td>Founded by Steve Jobs, Steve Wozniak, and Rona...</td>\n",
       "      <td>1.6</td>\n",
       "    </tr>\n",
       "    <tr>\n",
       "      <th>7</th>\n",
       "      <td>The company's ecosystem extends seamlessly acr...</td>\n",
       "      <td>1.1</td>\n",
       "    </tr>\n",
       "    <tr>\n",
       "      <th>8</th>\n",
       "      <td>Apple's commitment to environmental stewardshi...</td>\n",
       "      <td>2.2</td>\n",
       "    </tr>\n",
       "    <tr>\n",
       "      <th>9</th>\n",
       "      <td>With a blend of visionary leadership, cutting-...</td>\n",
       "      <td>1.9</td>\n",
       "    </tr>\n",
       "  </tbody>\n",
       "</table>\n",
       "</div>"
      ],
      "text/plain": [
       "                                            Sentence  Score\n",
       "0  Apple Inc., founded in 1976 by Steve Jobs, Ste...    1.2\n",
       "1  Renowned for its innovation in consumer electr...    0.9\n",
       "2  The company's commitment to seamless integrati...    2.0\n",
       "3  Beyond its products, Apple has pioneered advan...    1.0\n",
       "4  Today, Apple continues to shape the future of ...    2.5\n",
       "5  Apple Inc., a cornerstone of Silicon Valley's ...    0.8\n",
       "6  Founded by Steve Jobs, Steve Wozniak, and Rona...    1.6\n",
       "7  The company's ecosystem extends seamlessly acr...    1.1\n",
       "8  Apple's commitment to environmental stewardshi...    2.2\n",
       "9  With a blend of visionary leadership, cutting-...    1.9"
      ]
     },
     "execution_count": 121,
     "metadata": {},
     "output_type": "execute_result"
    }
   ],
   "source": [
    "pd.DataFrame(list(sent_score.items()),columns = ['Sentence','Score'])"
   ]
  },
  {
   "cell_type": "code",
   "execution_count": 122,
   "id": "32edce24-a3f4-47f3-8c68-340f7fba9f03",
   "metadata": {},
   "outputs": [],
   "source": [
    "from heapq import nlargest"
   ]
  },
  {
   "cell_type": "code",
   "execution_count": 123,
   "id": "419e6f90-c02f-4487-b321-d3eb452d0236",
   "metadata": {},
   "outputs": [],
   "source": [
    "num_sentences = 3\n",
    "join_sent = nlargest(num_sentences, sent_score, key = sent_score.get)"
   ]
  },
  {
   "cell_type": "code",
   "execution_count": null,
   "id": "99dda2ce-699f-4e96-8851-40910f377d8d",
   "metadata": {},
   "outputs": [],
   "source": [
    "###Specifies the number of top sentences (num_sentences) that you want to extract based on their scores from sent_score.\n",
    "###Finding Top Sentences: Uses the nlargest function from the heapq module to retrieve the num_sentences largest elements from sent_score.\n",
    "###sent_score.get: Specifies that the ranking criterion is based on the values (scores) stored in sent_score. \n",
    "###sent_score.get retrieves the value associated with each sentence (sent) in sent_score."
   ]
  },
  {
   "cell_type": "code",
   "execution_count": 124,
   "id": "ee963703-71ca-445c-a357-e3fad1310453",
   "metadata": {},
   "outputs": [
    {
     "data": {
      "text/plain": [
       "\"Today, Apple continues to shape the future of technology through its relentless pursuit of excellence and its vision of making technology accessible and intuitive for all. Apple's commitment to environmental stewardship and ethical manufacturing practices underscores its global influence, making it not just a leader in technology but also a model for corporate responsibility. The company's commitment to seamless integration of hardware and software, along with its emphasis on design aesthetics and user experience, has garnered a fiercely loyal customer base worldwide.\""
      ]
     },
     "execution_count": 124,
     "metadata": {},
     "output_type": "execute_result"
    }
   ],
   "source": [
    "\" \".join(join_sent)"
   ]
  },
  {
   "cell_type": "code",
   "execution_count": 125,
   "id": "2591f836-7811-4b20-9e1d-f0b8f46f7c4e",
   "metadata": {},
   "outputs": [],
   "source": [
    "#pip install transformers"
   ]
  },
  {
   "cell_type": "code",
   "execution_count": 126,
   "id": "7de6617d-7bc3-468b-a810-835d31118591",
   "metadata": {},
   "outputs": [],
   "source": [
    "#pip install tensorflow"
   ]
  },
  {
   "cell_type": "code",
   "execution_count": 127,
   "id": "56e1439b-a7fb-43cc-94c4-abde09133541",
   "metadata": {},
   "outputs": [],
   "source": [
    "#pip install flax"
   ]
  },
  {
   "cell_type": "code",
   "execution_count": 128,
   "id": "98dca17a-27e3-4016-b032-99f2cdb6cc31",
   "metadata": {},
   "outputs": [],
   "source": [
    "from transformers import pipeline"
   ]
  },
  {
   "cell_type": "code",
   "execution_count": 129,
   "id": "84fccdba-245f-4d98-8981-2a9227b7e542",
   "metadata": {},
   "outputs": [],
   "source": [
    "#pip install --upgrade tensorflow"
   ]
  },
  {
   "cell_type": "code",
   "execution_count": 130,
   "id": "fbc84fa9-ddcc-4147-9b30-cc0418deb03a",
   "metadata": {},
   "outputs": [],
   "source": [
    "#pip install tf-keras"
   ]
  },
  {
   "cell_type": "code",
   "execution_count": 131,
   "id": "8f3b8365-0027-4442-9bb9-8c61d716ea8c",
   "metadata": {},
   "outputs": [
    {
     "name": "stderr",
     "output_type": "stream",
     "text": [
      "All PyTorch model weights were used when initializing TFT5ForConditionalGeneration.\n",
      "\n",
      "All the weights of TFT5ForConditionalGeneration were initialized from the PyTorch model.\n",
      "If your task is similar to the task the model of the checkpoint was trained on, you can already use TFT5ForConditionalGeneration for predictions without further training.\n"
     ]
    }
   ],
   "source": [
    "from transformers import pipeline, AutoTokenizer, TFAutoModelForSeq2SeqLM\n",
    "\n",
    "tokenizer = AutoTokenizer.from_pretrained(\"t5-base\")\n",
    "model = TFAutoModelForSeq2SeqLM.from_pretrained(\"t5-base\")\n",
    "\n",
    "# Example usage with a pipeline\n",
    "text_generator = pipeline(\"text2text-generation\", model=model, tokenizer=tokenizer)\n"
   ]
  },
  {
   "cell_type": "code",
   "execution_count": null,
   "id": "0f857744-a42f-4bf6-9f31-2df162f30666",
   "metadata": {},
   "outputs": [],
   "source": [
    "###FAutoModelForSeq2SeqLM.from_pretrained(\"t5-base\"): Loads a TensorFlow-compatible version (TFAutoModelForSeq2SeqLM) of the T5 model\n",
    "###(\"t5-base\") for sequence-to-sequence tasks. This model is specifically tuned for tasks like text generation\n",
    "\n",
    "###Once text_generator is instantiated, you can use it to generate text by passing input prompts or sequences to it.\n",
    "###The pipeline handles tokenization using tokenizer and generates text based on the model (model)."
   ]
  },
  {
   "cell_type": "code",
   "execution_count": 132,
   "id": "3f3d44f0-d80f-4c13-a934-6d93d834f7e6",
   "metadata": {},
   "outputs": [],
   "source": [
    "text = \"\"\"Apple Inc., founded in 1976 by Steve Jobs, Steve Wozniak, and Ronald Wayne, has grown into a global technology icon. Renowned for its innovation in consumer electronics, software, and services, Apple's impact spans from the revolutionary Macintosh computers to the ubiquitous iPhone, iPad, and Apple Watch. The company's commitment to seamless integration of hardware and software, along with its emphasis on design aesthetics and user experience, has garnered a fiercely loyal customer base worldwide. Beyond its products, Apple has pioneered advancements in digital media with iTunes and App Store, while also leading in sustainability efforts and corporate responsibility. Today, Apple continues to shape the future of technology through its relentless pursuit of excellence and its vision of making technology accessible and intuitive for all.Apple Inc., a cornerstone of Silicon Valley's tech landscape, has become synonymous with innovation and elegance in consumer electronics. Founded by Steve Jobs, Steve Wozniak, and Ronald Wayne, Apple revolutionized personal computing with the Macintosh and later redefined mobile technology with the iPhone, setting new benchmarks for usability and design. The company's ecosystem extends seamlessly across devices with services like iCloud and Apple Music, fostering a unique user experience. Apple's commitment to environmental stewardship and ethical manufacturing practices underscores its global influence, making it not just a leader in technology but also a model for corporate responsibility. With a blend of visionary leadership, cutting-edge technology, and a fiercely loyal customer base, Apple continues to shape the digital landscape and inspire the world with its innovative spirit.\"\"\""
   ]
  },
  {
   "cell_type": "code",
   "execution_count": 133,
   "id": "a9254e72-0caf-4069-ba73-12ad8a49dfd6",
   "metadata": {},
   "outputs": [],
   "source": [
    "summary = text_generator(text, max_length = 100, min_length = 10, do_sample = False)"
   ]
  },
  {
   "cell_type": "code",
   "execution_count": 134,
   "id": "12c3ea8f-3187-4f49-8be3-cb8b694a5d5e",
   "metadata": {},
   "outputs": [
    {
     "data": {
      "text/plain": [
       "[{'generated_text': 'Apple Inc. is a global technology icon. a global leader in consumer electronics, software, and services. a global technology icon. a global leader in technology and corporate responsibility. a blend of visionary leadership, cutting-edge technology, and corporate responsibility..'}]"
      ]
     },
     "execution_count": 134,
     "metadata": {},
     "output_type": "execute_result"
    }
   ],
   "source": [
    "summary"
   ]
  },
  {
   "cell_type": "code",
   "execution_count": null,
   "id": "2979b5d7-3f74-4a00-97d4-e5f36097df66",
   "metadata": {},
   "outputs": [],
   "source": [
    "###Creating a GUI for Text Generation "
   ]
  },
  {
   "cell_type": "code",
   "execution_count": 136,
   "id": "c371a216-74a0-4c22-bb92-302a0e60517a",
   "metadata": {},
   "outputs": [],
   "source": [
    "import tkinter as tk\n",
    "from tkinter import scrolledtext, messagebox\n",
    "from transformers import pipeline, AutoTokenizer, TFAutoModelForSeq2SeqLM\n",
    "import spacy\n",
    "from spacy.lang.en.stop_words import STOP_WORDS\n",
    "from string import punctuation\n",
    "from collections import Counter\n",
    "from heapq import nlargest"
   ]
  },
  {
   "cell_type": "code",
   "execution_count": null,
   "id": "4f568aa7-11fe-4539-bb18-f89d0e7a71c2",
   "metadata": {},
   "outputs": [],
   "source": [
    "###mports the tkinter library and assigns it an alias tk. tkinter is the standard GUI (Graphical User Interface) library for Python.\n",
    "\n",
    "###scrolledtext: This is a widget in tkinter that provides a scrolling, multiline text area that can be used to display or input large amounts\n",
    "###of text.\n",
    "###messagebox: This module provides functions to create and show pop-up message boxes for showing alerts, notifications, or asking for user\n",
    "###input."
   ]
  },
  {
   "cell_type": "code",
   "execution_count": 137,
   "id": "a6353d94-cab5-409a-bb54-c00a2e903864",
   "metadata": {},
   "outputs": [],
   "source": [
    "nlp = spacy.load('en_core_web_sm')"
   ]
  },
  {
   "cell_type": "code",
   "execution_count": null,
   "id": "babcfc8e-b738-4427-962c-d8bc4434c73c",
   "metadata": {},
   "outputs": [],
   "source": [
    "###same steps as above but this time for GUI"
   ]
  },
  {
   "cell_type": "code",
   "execution_count": 138,
   "id": "845708a5-dd13-43b2-a3dd-de957240701d",
   "metadata": {},
   "outputs": [
    {
     "name": "stderr",
     "output_type": "stream",
     "text": [
      "All PyTorch model weights were used when initializing TFT5ForConditionalGeneration.\n",
      "\n",
      "All the weights of TFT5ForConditionalGeneration were initialized from the PyTorch model.\n",
      "If your task is similar to the task the model of the checkpoint was trained on, you can already use TFT5ForConditionalGeneration for predictions without further training.\n"
     ]
    }
   ],
   "source": [
    "tokenizer = AutoTokenizer.from_pretrained(\"t5-base\")\n",
    "model = TFAutoModelForSeq2SeqLM.from_pretrained(\"t5-base\")\n",
    "text_generator = pipeline(\"text2text-generation\", model=model, tokenizer=tokenizer)"
   ]
  },
  {
   "cell_type": "code",
   "execution_count": 139,
   "id": "97b2f4f0-f748-44af-a605-149df4031606",
   "metadata": {},
   "outputs": [],
   "source": [
    "def generate_summary(text):\n",
    "    doc = nlp(text)\n",
    "    tokens = [token.text.lower() for token in doc if not token.is_stop and not token.is_punct and token.text != '\\n']\n",
    "    tokens1 = []\n",
    "    stopwords = list(STOP_WORDS)\n",
    "    allowed_pos = ['ADJ', 'PROPN', 'VERB', 'NOUN']\n",
    "    for token in doc:\n",
    "        if token.text in stopwords or token.text in punctuation:\n",
    "            continue\n",
    "        if token.pos_ in allowed_pos:\n",
    "            tokens1.append(token.text)\n",
    "    \n",
    "    word_freq = Counter(tokens)\n",
    "    max_freq = max(word_freq.values())\n",
    "    for word in word_freq.keys():\n",
    "        word_freq[word] = word_freq[word] / max_freq\n",
    "    \n",
    "    sent_token = [sent.text for sent in doc.sents]\n",
    "    sent_score = {}\n",
    "    for sent in sent_token:\n",
    "        for word in sent.split():\n",
    "            if word.lower() in word_freq.keys():\n",
    "                if sent not in sent_score.keys():\n",
    "                    sent_score[sent] = word_freq[word]\n",
    "                else:\n",
    "                    sent_score[sent] += word_freq[word]\n",
    "    \n",
    "    num_sentences = 3  # Number of sentences in the summary\n",
    "    join_sent = nlargest(num_sentences, sent_score, key=sent_score.get)\n",
    "    summary_text = \" \".join(join_sent)\n",
    "    \n",
    "    return summary_text"
   ]
  },
  {
   "cell_type": "code",
   "execution_count": 140,
   "id": "03848745-9653-4366-b183-626d4960df1d",
   "metadata": {},
   "outputs": [],
   "source": [
    "def summarize_text():\n",
    "    input_text = text_input.get(\"1.0\", tk.END)\n",
    "    if input_text.strip() == \"\":\n",
    "        messagebox.showerror(\"Error\", \"Please enter some text to summarize.\")\n",
    "        return\n",
    "    \n",
    "    summary = generate_summary(input_text)\n",
    "    summary_output.configure(state='normal')\n",
    "    summary_output.delete(\"1.0\", tk.END)\n",
    "    summary_output.insert(tk.END, summary)\n",
    "    summary_output.configure(state='disabled')\n"
   ]
  },
  {
   "cell_type": "code",
   "execution_count": null,
   "id": "acb9bac1-1371-4c79-b06d-c213835d6e29",
   "metadata": {},
   "outputs": [],
   "source": [
    "###User Interaction: summarize_text facilitates user interaction by fetching user input, validating it, generating a summary based on the \n",
    "###input, and displaying the summary in an output widget (summary_output).\n",
    "###Error Handling: Ensures that users are prompted to enter text if the input area is empty before attempting to generate a summary.\n",
    "###Text Manipulation: Demonstrates how to manipulate Text widgets (text_input for input and summary_output for output) in a \n",
    "###tkinter-based GUI application.\n"
   ]
  },
  {
   "cell_type": "code",
   "execution_count": 141,
   "id": "a11e6399-af5a-42e9-b18d-b022b9164284",
   "metadata": {},
   "outputs": [
    {
     "data": {
      "text/plain": [
       "''"
      ]
     },
     "execution_count": 141,
     "metadata": {},
     "output_type": "execute_result"
    }
   ],
   "source": [
    "# Create a themed GUI\n",
    "root = tk.Tk()\n",
    "root.title(\"Text Summarization Tool\")\n",
    "root.geometry(\"600x400\")  # Set initial window size"
   ]
  },
  {
   "cell_type": "code",
   "execution_count": 142,
   "id": "51434bae-4e21-49e4-b7a6-13cbc3654532",
   "metadata": {},
   "outputs": [],
   "source": [
    "# Text Input Box\n",
    "text_input = scrolledtext.ScrolledText(root, width=60, height=10, wrap=tk.WORD, font=(\"Helvetica\", 12))\n",
    "text_input.pack(pady=20)"
   ]
  },
  {
   "cell_type": "code",
   "execution_count": 143,
   "id": "58877ae7-839f-404d-a5e2-88da60e93222",
   "metadata": {},
   "outputs": [],
   "source": [
    "# Generate Summary Button\n",
    "generate_button = tk.Button(root, text=\"Generate Summary\", command=summarize_text, font=(\"Helvetica\", 14), bg=\"#4CAF50\", fg=\"white\", relief=tk.RAISED)\n",
    "generate_button.pack(pady=10)"
   ]
  },
  {
   "cell_type": "code",
   "execution_count": 144,
   "id": "1bc5e75b-11c4-4733-9dd0-73539d7208db",
   "metadata": {},
   "outputs": [],
   "source": [
    "# Summary Output Box\n",
    "summary_output = scrolledtext.ScrolledText(root, width=60, height=5, wrap=tk.WORD, font=(\"Helvetica\", 12))\n",
    "summary_output.pack(pady=20)\n",
    "summary_output.configure(state='disabled')"
   ]
  },
  {
   "cell_type": "code",
   "execution_count": 145,
   "id": "f789248b-8785-41bf-bcb0-875cb6560c50",
   "metadata": {},
   "outputs": [],
   "source": [
    "root.mainloop()"
   ]
  }
 ],
 "metadata": {
  "kernelspec": {
   "display_name": "Python 3 (ipykernel)",
   "language": "python",
   "name": "python3"
  },
  "language_info": {
   "codemirror_mode": {
    "name": "ipython",
    "version": 3
   },
   "file_extension": ".py",
   "mimetype": "text/x-python",
   "name": "python",
   "nbconvert_exporter": "python",
   "pygments_lexer": "ipython3",
   "version": "3.12.4"
  }
 },
 "nbformat": 4,
 "nbformat_minor": 5
}
